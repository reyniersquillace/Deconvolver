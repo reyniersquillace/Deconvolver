{
 "cells": [
  {
   "cell_type": "code",
   "execution_count": 12,
   "metadata": {},
   "outputs": [
    {
     "data": {
      "text/plain": [
       "<module 'GenerateData' from '/home/rns/work/Grad/Computational/Deconvolver/GenerateData.py'>"
      ]
     },
     "execution_count": 12,
     "metadata": {},
     "output_type": "execute_result"
    }
   ],
   "source": [
    "import numpy as np\n",
    "import matplotlib.pyplot as plt\n",
    "import GenerateData\n",
    "import importlib\n",
    "import torch\n",
    "importlib.reload(GenerateData)"
   ]
  },
  {
   "cell_type": "code",
   "execution_count": 13,
   "metadata": {},
   "outputs": [],
   "source": [
    "phi = np.linspace(0, 1, 1024)"
   ]
  },
  {
   "cell_type": "code",
   "execution_count": 14,
   "metadata": {},
   "outputs": [],
   "source": [
    "pulses, locs = GenerateData.generate_dummy(10000, 1024)\n",
    "np.savez('DummyData.npz', *[pulses, locs], **{'pulses' : pulses, 'locs' : locs})"
   ]
  },
  {
   "cell_type": "code",
   "execution_count": 15,
   "metadata": {},
   "outputs": [],
   "source": [
    "def lorentzian(phi, gamma, x0 = 0.5):\n",
    "    return (gamma/((phi - x0)**2 + gamma**2))/np.pi"
   ]
  },
  {
   "cell_type": "code",
   "execution_count": 16,
   "metadata": {},
   "outputs": [],
   "source": [
    "def plot_comps(locs, gammas, amps):\n",
    "    for i in range(len(locs)):\n",
    "        if amps[i] >= 0.1:\n",
    "            subpulse = lorentzian(phi, gammas[i], locs[i])\n",
    "            subpulse *= amps[i]/max(subpulse)\n",
    "            plt.plot(phi, subpulse)"
   ]
  },
  {
   "cell_type": "code",
   "execution_count": 6,
   "metadata": {},
   "outputs": [
    {
     "data": {
      "text/plain": [
       "<module 'GenerateData' from '/home/rns/work/Grad/Computational/Deconvolver/GenerateData.py'>"
      ]
     },
     "execution_count": 6,
     "metadata": {},
     "output_type": "execute_result"
    }
   ],
   "source": [
    "import DummyModel\n",
    "importlib.reload(DummyModel)\n",
    "importlib.reload(GenerateData)"
   ]
  },
  {
   "cell_type": "code",
   "execution_count": 17,
   "metadata": {},
   "outputs": [
    {
     "name": "stdout",
     "output_type": "stream",
     "text": [
      "MSE: 0.05\n",
      "RMSE: 0.23\n"
     ]
    }
   ],
   "source": [
    "model = DummyModel.runModel()"
   ]
  },
  {
   "cell_type": "code",
   "execution_count": 8,
   "metadata": {},
   "outputs": [],
   "source": [
    "test_pulses, test_locs = GenerateData.generate_dummy(10, 1024)"
   ]
  },
  {
   "cell_type": "code",
   "execution_count": 9,
   "metadata": {},
   "outputs": [
    {
     "name": "stdout",
     "output_type": "stream",
     "text": [
      "0.5298521518707275\n",
      "0.4739162027835846\n",
      "0.5014506578445435\n",
      "0.4965570867061615\n",
      "0.5188651084899902\n",
      "0.49671003222465515\n",
      "0.5095468759536743\n",
      "0.5145782232284546\n",
      "0.5197392702102661\n",
      "0.5189976692199707\n"
     ]
    }
   ],
   "source": [
    "y_preds = []\n",
    "with torch.no_grad():\n",
    "    for i in range(10):\n",
    "        X_sample = test_pulses[i]\n",
    "        X_sample = torch.tensor(X_sample, dtype=torch.float32)\n",
    "        y_pred = model(X_sample).item()\n",
    "        y_preds.append(y_pred)\n",
    "        print(y_pred)"
   ]
  },
  {
   "cell_type": "code",
   "execution_count": 10,
   "metadata": {},
   "outputs": [
    {
     "data": {
      "text/plain": [
       "<matplotlib.legend.Legend at 0x7f9442815820>"
      ]
     },
     "execution_count": 10,
     "metadata": {},
     "output_type": "execute_result"
    },
    {
     "data": {
      "image/png": "[encoded data removed]",
      "text/plain": [
       "<Figure size 432x288 with 1 Axes>"
      ]
     },
     "metadata": {
      "needs_background": "light"
     },
     "output_type": "display_data"
    }
   ],
   "source": [
    "plt.plot(y_preds, 'r.', label = 'Predicted')\n",
    "plt.plot(test_locs, 'b.', label = 'True')\n",
    "plt.ylabel('Location of Peak')\n",
    "plt.legend()"
   ]
  },
  {
   "cell_type": "code",
   "execution_count": 11,
   "metadata": {},
   "outputs": [
    {
     "data": {
      "text/plain": [
       "[<matplotlib.lines.Line2D at 0x7f943fc7af40>]"
      ]
     },
     "execution_count": 11,
     "metadata": {},
     "output_type": "execute_result"
    },
    {
     "data": {
      "image/png": "[encoded data removed]",
      "text/plain": [
       "<Figure size 432x288 with 1 Axes>"
      ]
     },
     "metadata": {
      "needs_background": "light"
     },
     "output_type": "display_data"
    }
   ],
   "source": [
    "pulse, locs, gammas, amps = GenerateData.generate(1, 1024)\n",
    "plt.plot(phi, pulse[0])"
   ]
  },
  {
   "cell_type": "code",
   "execution_count": null,
   "metadata": {},
   "outputs": [],
   "source": []
  }
 ],
 "metadata": {
  "kernelspec": {
   "display_name": "Python 3",
   "language": "python",
   "name": "python3"
  },
  "language_info": {
   "codemirror_mode": {
    "name": "ipython",
    "version": 3
   },
   "file_extension": ".py",
   "mimetype": "text/x-python",
   "name": "python",
   "nbconvert_exporter": "python",
   "pygments_lexer": "ipython3",
   "version": "3.8.10"
  }
 },
 "nbformat": 4,
 "nbformat_minor": 2
}
