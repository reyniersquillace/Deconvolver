{
 "cells": [
  {
   "cell_type": "code",
   "execution_count": 77,
   "metadata": {},
   "outputs": [
    {
     "data": {
      "text/plain": [
       "<module 'GenerateData' from '/home/rns/work/Grad/Computational/Deconvolver/GenerateData.py'>"
      ]
     },
     "execution_count": 77,
     "metadata": {},
     "output_type": "execute_result"
    }
   ],
   "source": [
    "import numpy as np\n",
    "import matplotlib.pyplot as plt\n",
    "import GenerateData\n",
    "import importlib\n",
    "importlib.reload(GenerateData)"
   ]
  },
  {
   "cell_type": "code",
   "execution_count": 78,
   "metadata": {},
   "outputs": [],
   "source": [
    "phi = np.linspace(0, 1, 1024)"
   ]
  },
  {
   "cell_type": "code",
   "execution_count": 79,
   "metadata": {},
   "outputs": [],
   "source": [
    "def lorentzian(phi, gamma, x0 = 0.5):\n",
    "    return (gamma/((phi - x0)**2 + gamma**2))/np.pi"
   ]
  },
  {
   "cell_type": "code",
   "execution_count": 80,
   "metadata": {},
   "outputs": [],
   "source": [
    "def plot_comps(locs, gammas, amps):\n",
    "    for i in range(len(locs)):\n",
    "        if amps[i] >= 0.1:\n",
    "            subpulse = lorentzian(phi, gammas[i], locs[i])\n",
    "            subpulse *= amps[i]/max(subpulse)\n",
    "            plt.plot(phi, subpulse)"
   ]
  },
  {
   "cell_type": "code",
   "execution_count": 90,
   "metadata": {},
   "outputs": [],
   "source": [
    "pulses, locs, gammas, amps = GenerateData.generate(10000, 1024)"
   ]
  },
  {
   "cell_type": "code",
   "execution_count": 91,
   "metadata": {},
   "outputs": [],
   "source": [
    "np.savetxt('PulseData.txt', pulses)\n",
    "np.savetxt('LocationData.txt', locs)\n",
    "np.savetxt('GammaData.txt', gammas)\n",
    "np.savetxt('AmplitudeData.txt', amps)"
   ]
  },
  {
   "cell_type": "code",
   "execution_count": null,
   "metadata": {},
   "outputs": [],
   "source": []
  }
 ],
 "metadata": {
  "kernelspec": {
   "display_name": "Python 3",
   "language": "python",
   "name": "python3"
  },
  "language_info": {
   "codemirror_mode": {
    "name": "ipython",
    "version": 3
   },
   "file_extension": ".py",
   "mimetype": "text/x-python",
   "name": "python",
   "nbconvert_exporter": "python",
   "pygments_lexer": "ipython3",
   "version": "3.8.10"
  }
 },
 "nbformat": 4,
 "nbformat_minor": 2
}
