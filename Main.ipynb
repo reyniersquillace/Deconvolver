{
 "cells": [
  {
   "cell_type": "code",
   "execution_count": 67,
   "metadata": {},
   "outputs": [
    {
     "data": {
      "text/plain": [
       "<module 'GenerateData' from '/home/rns/work/Grad/Computational/Deconvolver/GenerateData.py'>"
      ]
     },
     "execution_count": 67,
     "metadata": {},
     "output_type": "execute_result"
    }
   ],
   "source": [
    "import numpy as np\n",
    "import matplotlib.pyplot as plt\n",
    "import GenerateData\n",
    "import importlib\n",
    "import torch\n",
    "importlib.reload(GenerateData)"
   ]
  },
  {
   "cell_type": "code",
   "execution_count": 68,
   "metadata": {},
   "outputs": [],
   "source": [
    "phi = np.linspace(0, 1, 1024)"
   ]
  },
  {
   "cell_type": "code",
   "execution_count": 69,
   "metadata": {},
   "outputs": [],
   "source": [
    "def lorentzian(phi, gamma, x0 = 0.5):\n",
    "    return (gamma/((phi - x0)**2 + gamma**2))/np.pi"
   ]
  },
  {
   "cell_type": "code",
   "execution_count": 70,
   "metadata": {},
   "outputs": [],
   "source": [
    "def plot_comps(locs, gammas, amps):\n",
    "    for i in range(len(locs)):\n",
    "        if amps[i] >= 0.1:\n",
    "            subpulse = lorentzian(phi, gammas[i], locs[i])\n",
    "            subpulse *= amps[i]/max(subpulse)\n",
    "            plt.plot(phi, subpulse)"
   ]
  },
  {
   "cell_type": "markdown",
   "metadata": {},
   "source": [
    "Created set of 10000 noiseless profiles with 2 subpulses each."
   ]
  },
  {
   "cell_type": "code",
   "execution_count": 118,
   "metadata": {},
   "outputs": [],
   "source": [
    "data = np.load('TrainingData.npz')"
   ]
  },
  {
   "cell_type": "code",
   "execution_count": 119,
   "metadata": {},
   "outputs": [
    {
     "data": {
      "text/plain": [
       "array([[0.5       , 0.46997902, 0.55120819],\n",
       "       [0.5       , 0.5535906 , 0.60527934],\n",
       "       [0.5       , 0.48832613, 0.5913635 ],\n",
       "       ...,\n",
       "       [0.5       , 0.56848021, 0.48182729],\n",
       "       [0.5       , 0.5006466 , 0.49577658],\n",
       "       [0.5       , 0.64229417, 0.60460134]])"
      ]
     },
     "execution_count": 119,
     "metadata": {},
     "output_type": "execute_result"
    }
   ],
   "source": [
    "data['locs']"
   ]
  },
  {
   "cell_type": "code",
   "execution_count": 120,
   "metadata": {},
   "outputs": [],
   "source": [
    "output = np.array([data['locs'], data['gammas'], data['amps']])"
   ]
  },
  {
   "cell_type": "code",
   "execution_count": 130,
   "metadata": {},
   "outputs": [
    {
     "data": {
      "text/plain": [
       "array([[[0.5       , 0.46997902, 0.55120819],\n",
       "        [0.5       , 0.5535906 , 0.60527934],\n",
       "        [0.5       , 0.48832613, 0.5913635 ]],\n",
       "\n",
       "       [[0.5       , 0.29488886, 0.43861783],\n",
       "        [0.5       , 0.51961409, 0.25078383],\n",
       "        [0.5       , 0.43176165, 0.53568025]],\n",
       "\n",
       "       [[0.5       , 0.49908123, 0.46854498],\n",
       "        [0.5       , 0.56060083, 0.50035886],\n",
       "        [0.5       , 0.51732168, 0.52258071]],\n",
       "\n",
       "       ...,\n",
       "\n",
       "       [[1.        , 0.5244898 , 0.70408163],\n",
       "        [1.        , 0.11632653, 0.29591837],\n",
       "        [1.        , 0.75306122, 0.26326531]],\n",
       "\n",
       "       [[1.        , 0.34489796, 0.78571429],\n",
       "        [1.        , 0.78571429, 0.58979592],\n",
       "        [1.        , 0.72040816, 0.5244898 ]],\n",
       "\n",
       "       [[1.        , 0.75306122, 0.39387755],\n",
       "        [1.        , 0.54081633, 0.41020408],\n",
       "        [1.        , 0.6877551 , 0.41020408]]])"
      ]
     },
     "execution_count": 130,
     "metadata": {},
     "output_type": "execute_result"
    }
   ],
   "source": [
    "np.reshape(output, (10000, 3, 3))"
   ]
  },
  {
   "cell_type": "code",
   "execution_count": null,
   "metadata": {},
   "outputs": [],
   "source": []
  }
 ],
 "metadata": {
  "kernelspec": {
   "display_name": "Python 3",
   "language": "python",
   "name": "python3"
  },
  "language_info": {
   "codemirror_mode": {
    "name": "ipython",
    "version": 3
   },
   "file_extension": ".py",
   "mimetype": "text/x-python",
   "name": "python",
   "nbconvert_exporter": "python",
   "pygments_lexer": "ipython3",
   "version": "3.8.10"
  }
 },
 "nbformat": 4,
 "nbformat_minor": 2
}
